{
 "cells": [
  {
   "cell_type": "markdown",
   "metadata": {
    "collapsed": true,
    "pycharm": {
     "name": "#%% md\n"
    }
   },
   "source": [
    "# Data Cleaning Workflow Example\n",
    "\n"
   ]
  },
  {
   "cell_type": "markdown",
   "metadata": {
    "pycharm": {
     "name": "#%% md\n"
    }
   },
   "source": [
    "## Requirements\n",
    "This notebook requires a virtual environment that includes packages for Python 3.8 and Jupyter.\n",
    "\n",
    "This notebook is included in a PyCharm project. It makes use of Python code from within the PyCharm project directory."
   ]
  },
  {
   "cell_type": "markdown",
   "metadata": {
    "pycharm": {
     "name": "#%% md\n"
    }
   },
   "source": [
    "## Overview\n",
    "This sample workflow cleans a raw data file to produce a cleaned data file.\n",
    "\n",
    "Each record contains three fields separated by commas (city name, state name, integer value). We suspect coding errors in city name and state name fields. No errors are expected in the integer value field.\n",
    "\n",
    "This workflow will analyse values for the city name and state name fields to expose data coding problems. Then, a correction program will be coded and run to repair as many of the error values as possible. Finally, the analysis of city names and state names will be run again to demonsteate that coding errors have been resolved in the cleaned version of the data file.\n",
    "\n"
   ]
  },
  {
   "cell_type": "markdown",
   "metadata": {
    "pycharm": {
     "name": "#%% md\n"
    }
   },
   "source": [
    "## Raw Data\n",
    "### Configure\n"
   ]
  },
  {
   "cell_type": "code",
   "execution_count": 2,
   "metadata": {
    "pycharm": {
     "name": "#%%\n"
    }
   },
   "outputs": [],
   "source": [
    "subdirectory = 'data'\n",
    "raw_data_filename = 'raw_data.txt'"
   ]
  },
  {
   "cell_type": "markdown",
   "metadata": {
    "pycharm": {
     "name": "#%% md\n"
    }
   },
   "source": [
    "### Analyse City Name Values\n",
    "\n",
    "1. Read all lines in infile, unpack into three variables, split the lines.\n",
    "2. For every city_name, get value and set to 0 if no value, add one if value exists.\n",
    "3. Print list of key values in dictionary in alphabetical order and show what the counts."
   ]
  },
  {
   "cell_type": "code",
   "execution_count": 3,
   "metadata": {
    "pycharm": {
     "name": "#%%\n"
    }
   },
   "outputs": [
    {
     "name": "stdout",
     "output_type": "stream",
     "text": [
      "ARGLINTON: 2\n",
      "Centerville: 2\n",
      "Clinton: 2\n",
      "Dayton: 2\n",
      "Fairview: 1\n",
      "Fairview : 1\n",
      "Franklin: 2\n",
      "Town: 2\n",
      "salem: 2\n"
     ]
    }
   ],
   "source": [
    "from analyse_city_name_values import do_analyse_city_name_values\n",
    "do_analyse_city_name_values(subdirectory, raw_data_filename)\n"
   ]
  },
  {
   "cell_type": "markdown",
   "metadata": {
    "pycharm": {
     "name": "#%% md\n"
    }
   },
   "source": [
    "### Analyse State Name Values\n"
   ]
  },
  {
   "cell_type": "code",
   "execution_count": 5,
   "outputs": [
    {
     "name": "stdout",
     "output_type": "stream",
     "text": [
      "California: 2\n",
      "Fairville: 2\n",
      "Georgetown: 1\n",
      "Georgetown : 1\n",
      "Michigan: 1\n",
      "Michigan : 3\n",
      "NEW YORK: 2\n",
      "North Carolina: 2\n",
      "PENNSYLVANIA: 2\n"
     ]
    }
   ],
   "source": [
    "from analyse_state_name_values import do_analyse_state_name_values\n",
    "do_analyse_state_name_values(subdirectory, raw_data_filename)\n",
    "\n"
   ],
   "metadata": {
    "collapsed": false,
    "pycharm": {
     "name": "#%%\n"
    }
   }
  },
  {
   "cell_type": "code",
   "execution_count": 5,
   "outputs": [],
   "source": [
    "\n",
    "\n"
   ],
   "metadata": {
    "collapsed": false,
    "pycharm": {
     "name": "#%%\n"
    }
   }
  }
 ],
 "metadata": {
  "kernelspec": {
   "display_name": "Python 3 (ipykernel)",
   "language": "python",
   "name": "python3"
  },
  "language_info": {
   "codemirror_mode": {
    "name": "ipython",
    "version": 3
   },
   "file_extension": ".py",
   "mimetype": "text/x-python",
   "name": "python",
   "nbconvert_exporter": "python",
   "pygments_lexer": "ipython3",
   "version": "3.8.9"
  }
 },
 "nbformat": 4,
 "nbformat_minor": 1
}